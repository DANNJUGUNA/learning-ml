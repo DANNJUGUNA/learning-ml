{
 "cells": [
  {
   "cell_type": "code",
   "execution_count": 4,
   "id": "7bcd2157-68b5-4a36-8d08-465272cf22f6",
   "metadata": {},
   "outputs": [
    {
     "data": {
      "text/plain": [
       "array(['Jazz', 'Jazz', 'Classical', 'Classical'], dtype=object)"
      ]
     },
     "execution_count": 4,
     "metadata": {},
     "output_type": "execute_result"
    }
   ],
   "source": [
    "import pandas as pd\n",
    "from sklearn.tree import DecisionTreeClassifier\n",
    "from sklearn.model_selection import train_test_split\n",
    "music_data=pd.read_csv('music.csv')\n",
    "X=music_data.drop(columns=['genre'])\n",
    "y=music_data['genre']\n",
    "X_train,X_test, y_train, y_test=train_test_split(X,y, test_size=0.2)\n",
    "\n",
    "model= DecisionTreeClassifier()\n",
    "model.fit(X_train, y_train)\n",
    "predictions=model.predict(X_test)\n",
    "predictions"
   ]
  },
  {
   "cell_type": "code",
   "execution_count": null,
   "id": "9cbc7f3d-85b0-4839-85f1-5c1e801b7bbb",
   "metadata": {},
   "outputs": [],
   "source": []
  }
 ],
 "metadata": {
  "kernelspec": {
   "display_name": "Python 3 (ipykernel)",
   "language": "python",
   "name": "python3"
  },
  "language_info": {
   "codemirror_mode": {
    "name": "ipython",
    "version": 3
   },
   "file_extension": ".py",
   "mimetype": "text/x-python",
   "name": "python",
   "nbconvert_exporter": "python",
   "pygments_lexer": "ipython3",
   "version": "3.11.7"
  }
 },
 "nbformat": 4,
 "nbformat_minor": 5
}
